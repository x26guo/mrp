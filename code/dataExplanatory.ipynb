{
 "cells": [
  {
   "cell_type": "code",
   "execution_count": 17,
   "metadata": {
    "collapsed": true
   },
   "outputs": [],
   "source": [
    "import pandas as pd\n",
    "import numpy as np\n",
    "import matplotlib\n",
    "import matplotlib.pyplot as plt\n",
    "matplotlib.style.use('ggplot')\n",
    "%matplotlib inline"
   ]
  },
  {
   "cell_type": "code",
   "execution_count": 18,
   "metadata": {
    "collapsed": true
   },
   "outputs": [],
   "source": [
    "df = pd.read_excel(\"C:\\\\Users\\\\Sadie\\\\Desktop\\\\Major_Research\\\\data\\\\movie_norm_rating.xlsx\",encoding='latin-1')"
   ]
  },
  {
   "cell_type": "code",
   "execution_count": 28,
   "metadata": {},
   "outputs": [
    {
     "data": {
      "text/plain": [
       "file_name       3277\n",
       "title           3234\n",
       "user            3221\n",
       "comment         3157\n",
       "Final Rating    3157\n",
       "dtype: int64"
      ]
     },
     "execution_count": 28,
     "metadata": {},
     "output_type": "execute_result"
    }
   ],
   "source": [
    "df.count()"
   ]
  },
  {
   "cell_type": "code",
   "execution_count": 29,
   "metadata": {},
   "outputs": [
    {
     "data": {
      "text/plain": [
       "file_name       3157\n",
       "title           3157\n",
       "user            3157\n",
       "comment         3157\n",
       "Final Rating    3157\n",
       "dtype: int64"
      ]
     },
     "execution_count": 29,
     "metadata": {},
     "output_type": "execute_result"
    }
   ],
   "source": [
    "df = df.dropna()\n",
    "df.count()"
   ]
  },
  {
   "cell_type": "code",
   "execution_count": 30,
   "metadata": {},
   "outputs": [
    {
     "name": "stdout",
     "output_type": "stream",
     "text": [
      "Unique number of title: 2201\n"
     ]
    }
   ],
   "source": [
    "print(\"Unique number of title: %d\" % df['title'].nunique())"
   ]
  },
  {
   "cell_type": "code",
   "execution_count": 31,
   "metadata": {},
   "outputs": [
    {
     "name": "stdout",
     "output_type": "stream",
     "text": [
      "Unique number of user: 135\n"
     ]
    }
   ],
   "source": [
    "print(\"Unique number of user: %d\" % df['user'].nunique())"
   ]
  },
  {
   "cell_type": "code",
   "execution_count": 35,
   "metadata": {},
   "outputs": [],
   "source": [
    "df.to_excel(\"C:\\\\Users\\\\Sadie\\\\Desktop\\\\Major_Research\\\\data\\\\movie_norm_rating_dropna.xlsx\", index=False)"
   ]
  },
  {
   "cell_type": "code",
   "execution_count": 32,
   "metadata": {},
   "outputs": [
    {
     "data": {
      "text/plain": [
       "user\n",
       "A. Estey                             1\n",
       "Adam Godfrey                         2\n",
       "Alexander F. Relyea                  1\n",
       "Allan Woodward                       3\n",
       "Andrew Cunningham                    2\n",
       "Andy Wright                          9\n",
       "Bryant Frazer                       30\n",
       "C.J. Webb                            1\n",
       "Chad Polenz                         63\n",
       "Chad Polenz@aol.com                  5\n",
       "Choo Eng Aun, Jack                   1\n",
       "Chris Casino                         5\n",
       "Chris Klecker                        1\n",
       "Chris Simpson                        1\n",
       "Chris Webb                          15\n",
       "Christian Pyle                      69\n",
       "Chuck Dowling                       68\n",
       "Clarissa Ooon                        1\n",
       "Clark Goble                          1\n",
       "Clark Quinn                          3\n",
       "Curtis Edmonds                       7\n",
       "Dan Meyer                            1\n",
       "Dan R. Priebe                        1\n",
       "David Elliot                         1\n",
       "David Landers                       13\n",
       "David Pimmel                         1\n",
       "David Wilcock                        4\n",
       "Dennis Schwartz                   1034\n",
       "Doug Thomas                          1\n",
       "E. A. Knowles                        1\n",
       "                                  ... \n",
       "Scott Marcus                         3\n",
       "Scott Renshaw                       15\n",
       "Sean Molloy                          1\n",
       "Sean P. Molloy                       1\n",
       "Sean Townsend                        3\n",
       "Shane Henry                          1\n",
       "Shay Casey                           1\n",
       "Sridhar Prasad                       2\n",
       "Stacey Oziel                         1\n",
       "Stephen Sills                        1\n",
       "Steve Fritzinger                     2\n",
       "Steve Miller                         1\n",
       "Steve Rybin                          2\n",
       "Steve Upstill                        1\n",
       "Stuart Cracraft                      1\n",
       "The Flying Inkpot                    6\n",
       "Thuan N. P. Nguyen                   1\n",
       "Tim Larison                          1\n",
       "Tim Scott                            1\n",
       "Timothy Scott                        4\n",
       "Victor Nguyen                        1\n",
       "Victory A. Marasigan                 8\n",
       "Victory Marasigan                   10\n",
       "Vincent Archer                       1\n",
       "W Waffle                             1\n",
       "W. Waffle                            1\n",
       "dnf@nauvax.ucc.nau.edu               1\n",
       "leeper@mtgbcs.usae.avaya.com         1\n",
       "maxzilla.Scott Eggimann              1\n",
       "sun!megatest!jao (John Oswalt)       1\n",
       "Length: 135, dtype: int64"
      ]
     },
     "execution_count": 32,
     "metadata": {},
     "output_type": "execute_result"
    }
   ],
   "source": [
    "df1 = df.groupby(['title']).size().reset_index(name='counts')\n",
    "df2 = df.groupby(['user']).size()\n",
    "df2"
   ]
  },
  {
   "cell_type": "code",
   "execution_count": 22,
   "metadata": {},
   "outputs": [
    {
     "data": {
      "text/plain": [
       "user\n",
       "Dennis Schwartz          1034\n",
       "Mark R. Leeper            724\n",
       "Michael J. Legeros        328\n",
       "Homer Yen                 240\n",
       "Eugene Novikov            109\n",
       "Christian Pyle             69\n",
       "Chuck Dowling              68\n",
       "Chad Polenz                63\n",
       "Nathaniel R. Atcheson      38\n",
       "Jason Overbeck             37\n",
       "dtype: int64"
      ]
     },
     "execution_count": 22,
     "metadata": {},
     "output_type": "execute_result"
    }
   ],
   "source": [
    "df3 = df2.sort_values(ascending=False)\n",
    "df4 = df3.head(10)\n",
    "df4"
   ]
  },
  {
   "cell_type": "code",
   "execution_count": 23,
   "metadata": {},
   "outputs": [
    {
     "data": {
      "text/plain": [
       "Text(0.5,0,'number of reviews')"
      ]
     },
     "execution_count": 23,
     "metadata": {},
     "output_type": "execute_result"
    },
    {
     "data": {
      "image/png": "[encoded data removed]",
      "text/plain": [
       "<matplotlib.figure.Figure at 0x1ba100a7208>"
      ]
     },
     "metadata": {},
     "output_type": "display_data"
    }
   ],
   "source": [
    "df4.plot(kind='barh', color='Grey')\n",
    "plt.xlabel('number of reviews', fontsize=10)"
   ]
  },
  {
   "cell_type": "code",
   "execution_count": 24,
   "metadata": {},
   "outputs": [
    {
     "data": {
      "image/png": "[encoded data removed]",
      "text/plain": [
       "<matplotlib.figure.Figure at 0x1ba1033a4e0>"
      ]
     },
     "metadata": {},
     "output_type": "display_data"
    }
   ],
   "source": [
    "import matplotlib.pyplot as plt\n",
    " \n",
    "# Data to plot\n",
    "labels = 'A- to D+', '() out of *****', '-4 to 4'\n",
    "sizes = [2213, 191, 753]\n",
    "colors = ['grey', 'white','lightgrey']\n",
    "explode = (0.1, 0, 0)  # explode 1st slice\n",
    " \n",
    "# Plot\n",
    "plt.pie(sizes, explode=explode, labels=labels, colors=colors,\n",
    "        autopct='%1.1f%%', shadow=True, startangle=140)\n",
    " \n",
    "plt.axis('equal')\n",
    "plt.show()"
   ]
  },
  {
   "cell_type": "code",
   "execution_count": 27,
   "metadata": {},
   "outputs": [
    {
     "name": "stderr",
     "output_type": "stream",
     "text": [
      "C:\\Users\\Sadie\\Anaconda3\\lib\\site-packages\\numpy\\lib\\function_base.py:4291: RuntimeWarning: Invalid value encountered in percentile\n",
      "  interpolation=interpolation)\n",
      "C:\\Users\\Sadie\\Anaconda3\\lib\\site-packages\\matplotlib\\cbook\\__init__.py:1857: RuntimeWarning: invalid value encountered in less_equal\n",
      "  wiskhi = np.compress(x <= hival, x)\n",
      "C:\\Users\\Sadie\\Anaconda3\\lib\\site-packages\\matplotlib\\cbook\\__init__.py:1864: RuntimeWarning: invalid value encountered in greater_equal\n",
      "  wisklo = np.compress(x >= loval, x)\n",
      "C:\\Users\\Sadie\\Anaconda3\\lib\\site-packages\\matplotlib\\cbook\\__init__.py:1872: RuntimeWarning: invalid value encountered in less\n",
      "  np.compress(x < stats['whislo'], x),\n",
      "C:\\Users\\Sadie\\Anaconda3\\lib\\site-packages\\matplotlib\\cbook\\__init__.py:1873: RuntimeWarning: invalid value encountered in greater\n",
      "  np.compress(x > stats['whishi'], x)\n"
     ]
    },
    {
     "data": {
      "text/plain": [
       "{'boxes': [<matplotlib.lines.Line2D at 0x1ba126a9da0>],\n",
       " 'caps': [<matplotlib.lines.Line2D at 0x1ba126a9dd8>,\n",
       "  <matplotlib.lines.Line2D at 0x1ba126ecf28>],\n",
       " 'fliers': [<matplotlib.lines.Line2D at 0x1ba12747780>],\n",
       " 'means': [],\n",
       " 'medians': [<matplotlib.lines.Line2D at 0x1ba12747358>],\n",
       " 'whiskers': [<matplotlib.lines.Line2D at 0x1ba126ec278>,\n",
       "  <matplotlib.lines.Line2D at 0x1ba126ec710>]}"
      ]
     },
     "execution_count": 27,
     "metadata": {},
     "output_type": "execute_result"
    },
    {
     "data": {
      "image/png": "[encoded data removed]",
      "text/plain": [
       "<matplotlib.figure.Figure at 0x1ba124b5160>"
      ]
     },
     "metadata": {},
     "output_type": "display_data"
    }
   ],
   "source": [
    "plt.boxplot(df[\"Final Rating\"])"
   ]
  }
 ],
 "metadata": {
  "kernelspec": {
   "display_name": "Python 3",
   "language": "python",
   "name": "python3"
  },
  "language_info": {
   "codemirror_mode": {
    "name": "ipython",
    "version": 3
   },
   "file_extension": ".py",
   "mimetype": "text/x-python",
   "name": "python",
   "nbconvert_exporter": "python",
   "pygments_lexer": "ipython3",
   "version": "3.6.3"
  }
 },
 "nbformat": 4,
 "nbformat_minor": 2
}
